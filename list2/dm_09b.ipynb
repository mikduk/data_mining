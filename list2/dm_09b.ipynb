{
 "cells": [
  {
   "cell_type": "code",
   "execution_count": 1,
   "id": "9781f26f",
   "metadata": {},
   "outputs": [],
   "source": [
    "import numpy as np\n",
    "import matplotlib.pyplot as plt\n",
    "import statsmodels.api as sm\n",
    "import statsmodels.formula.api as smf\n",
    "import pandas as pd"
   ]
  },
  {
   "cell_type": "markdown",
   "id": "cda32399",
   "metadata": {},
   "source": [
    "### [ISL] EX 14\n",
    "This problem focuses on the collinearity problem."
   ]
  },
  {
   "cell_type": "code",
   "execution_count": 20,
   "id": "91ea6491",
   "metadata": {},
   "outputs": [],
   "source": [
    "np.random.seed(1)"
   ]
  },
  {
   "cell_type": "code",
   "execution_count": 2,
   "id": "ac2ab2b3",
   "metadata": {},
   "outputs": [],
   "source": [
    "x1 = np.sort(np.random.uniform(0, 1, (100)))\n",
    "x2 = 0.5 * x1 + np.random.normal(0, 1, (100)) / 10\n",
    "y = 2 + 2 * x1 + 0.3 * x2 + np.random.normal(0, 1, (100))\n",
    "data_frame = pd.DataFrame.from_dict({\"x1\": x1, \"x2\": x2, \"y\": y})"
   ]
  },
  {
   "cell_type": "markdown",
   "id": "97386384",
   "metadata": {},
   "source": [
    "(a) **Write out the form of the linear model.\n",
    "What are the regression coefficients?**\n",
    "\n",
    "y = β0 + β1*x1 + β2*x2, β1 and β2\n",
    "\n",
    "(b) **What is the correlation between x1 and x2? Create a scatterplot.**"
   ]
  },
  {
   "cell_type": "code",
   "execution_count": 3,
   "id": "cb6fc6e1",
   "metadata": {},
   "outputs": [
    {
     "data": {
      "text/plain": [
       "<matplotlib.collections.PathCollection at 0x7fec3bf70910>"
      ]
     },
     "execution_count": 3,
     "metadata": {},
     "output_type": "execute_result"
    },
    {
     "data": {
      "image/png": "[encoded data removed]",
      "text/plain": [
       "<Figure size 720x576 with 1 Axes>"
      ]
     },
     "metadata": {
      "needs_background": "light"
     },
     "output_type": "display_data"
    }
   ],
   "source": [
    "fig, ax = plt.subplots(figsize=(10,8))\n",
    "ax.scatter(x1, x2)"
   ]
  },
  {
   "cell_type": "code",
   "execution_count": 4,
   "id": "3af4acf9",
   "metadata": {},
   "outputs": [
    {
     "data": {
      "text/html": [
       "<div>\n",
       "<style scoped>\n",
       "    .dataframe tbody tr th:only-of-type {\n",
       "        vertical-align: middle;\n",
       "    }\n",
       "\n",
       "    .dataframe tbody tr th {\n",
       "        vertical-align: top;\n",
       "    }\n",
       "\n",
       "    .dataframe thead th {\n",
       "        text-align: right;\n",
       "    }\n",
       "</style>\n",
       "<table border=\"1\" class=\"dataframe\">\n",
       "  <thead>\n",
       "    <tr style=\"text-align: right;\">\n",
       "      <th></th>\n",
       "      <th>x1</th>\n",
       "      <th>x2</th>\n",
       "      <th>y</th>\n",
       "    </tr>\n",
       "  </thead>\n",
       "  <tbody>\n",
       "    <tr>\n",
       "      <th>x1</th>\n",
       "      <td>1.000000</td>\n",
       "      <td>0.873817</td>\n",
       "      <td>0.627689</td>\n",
       "    </tr>\n",
       "    <tr>\n",
       "      <th>x2</th>\n",
       "      <td>0.873817</td>\n",
       "      <td>1.000000</td>\n",
       "      <td>0.576921</td>\n",
       "    </tr>\n",
       "    <tr>\n",
       "      <th>y</th>\n",
       "      <td>0.627689</td>\n",
       "      <td>0.576921</td>\n",
       "      <td>1.000000</td>\n",
       "    </tr>\n",
       "  </tbody>\n",
       "</table>\n",
       "</div>"
      ],
      "text/plain": [
       "          x1        x2         y\n",
       "x1  1.000000  0.873817  0.627689\n",
       "x2  0.873817  1.000000  0.576921\n",
       "y   0.627689  0.576921  1.000000"
      ]
     },
     "execution_count": 4,
     "metadata": {},
     "output_type": "execute_result"
    }
   ],
   "source": [
    "data_frame.corr()"
   ]
  },
  {
   "cell_type": "markdown",
   "id": "94af46a2",
   "metadata": {},
   "source": [
    "(c) **Fit a least squares regression to predict y using\n",
    "x1 and x2. Describe the results obtained.** \n",
    "\n",
    "**What are βˆ0, βˆ1, and\n",
    "βˆ2? How do these relate to the true β0, β1, and β2? Can you\n",
    "reject the null hypothesis H0 : β1 = 0?** \n",
    "\n",
    "**How about the null\n",
    "hypothesis H0 : β2 = 0?**"
   ]
  },
  {
   "cell_type": "code",
   "execution_count": 5,
   "id": "81a6e4cc",
   "metadata": {},
   "outputs": [],
   "source": [
    "fit_x12 = smf.ols(formula=\"y ~ x1 + x2\", data=data_frame).fit()"
   ]
  },
  {
   "cell_type": "code",
   "execution_count": 6,
   "id": "865d54a2",
   "metadata": {},
   "outputs": [
    {
     "name": "stdout",
     "output_type": "stream",
     "text": [
      "                            OLS Regression Results                            \n",
      "==============================================================================\n",
      "Dep. Variable:                      y   R-squared:                       0.397\n",
      "Model:                            OLS   Adj. R-squared:                  0.385\n",
      "Method:                 Least Squares   F-statistic:                     31.99\n",
      "Date:                Sun, 11 Dec 2022   Prob (F-statistic):           2.14e-11\n",
      "Time:                        19:11:24   Log-Likelihood:                -147.73\n",
      "No. Observations:                 100   AIC:                             301.5\n",
      "Df Residuals:                      97   BIC:                             309.3\n",
      "Df Model:                           2                                         \n",
      "Covariance Type:            nonrobust                                         \n",
      "==============================================================================\n",
      "                 coef    std err          t      P>|t|      [0.025      0.975]\n",
      "------------------------------------------------------------------------------\n",
      "Intercept      1.6322      0.222      7.342      0.000       1.191       2.073\n",
      "x1             2.3807      0.738      3.224      0.002       0.915       3.846\n",
      "x2             0.8937      1.205      0.742      0.460      -1.497       3.284\n",
      "==============================================================================\n",
      "Omnibus:                        1.350   Durbin-Watson:                   2.440\n",
      "Prob(Omnibus):                  0.509   Jarque-Bera (JB):                0.963\n",
      "Skew:                           0.231   Prob(JB):                        0.618\n",
      "Kurtosis:                       3.136   Cond. No.                         15.1\n",
      "==============================================================================\n",
      "\n",
      "Notes:\n",
      "[1] Standard Errors assume that the covariance matrix of the errors is correctly specified.\n"
     ]
    }
   ],
   "source": [
    "print(fit_x12.summary())"
   ]
  },
  {
   "cell_type": "code",
   "execution_count": 7,
   "id": "64e8b8af",
   "metadata": {},
   "outputs": [],
   "source": [
    "fit_x1 = smf.ols(formula=\"y ~ x1\", data=data_frame).fit()"
   ]
  },
  {
   "cell_type": "code",
   "execution_count": 8,
   "id": "c5d57201",
   "metadata": {},
   "outputs": [
    {
     "name": "stdout",
     "output_type": "stream",
     "text": [
      "                            OLS Regression Results                            \n",
      "==============================================================================\n",
      "Dep. Variable:                      y   R-squared:                       0.394\n",
      "Model:                            OLS   Adj. R-squared:                  0.388\n",
      "Method:                 Least Squares   F-statistic:                     63.71\n",
      "Date:                Sun, 11 Dec 2022   Prob (F-statistic):           2.77e-12\n",
      "Time:                        19:11:24   Log-Likelihood:                -148.02\n",
      "No. Observations:                 100   AIC:                             300.0\n",
      "Df Residuals:                      98   BIC:                             305.2\n",
      "Df Model:                           1                                         \n",
      "Covariance Type:            nonrobust                                         \n",
      "==============================================================================\n",
      "                 coef    std err          t      P>|t|      [0.025      0.975]\n",
      "------------------------------------------------------------------------------\n",
      "Intercept      1.6165      0.221      7.321      0.000       1.178       2.055\n",
      "x1             2.8594      0.358      7.982      0.000       2.149       3.570\n",
      "==============================================================================\n",
      "Omnibus:                        0.769   Durbin-Watson:                   2.439\n",
      "Prob(Omnibus):                  0.681   Jarque-Bera (JB):                0.538\n",
      "Skew:                           0.178   Prob(JB):                        0.764\n",
      "Kurtosis:                       3.046   Cond. No.                         4.37\n",
      "==============================================================================\n",
      "\n",
      "Notes:\n",
      "[1] Standard Errors assume that the covariance matrix of the errors is correctly specified.\n"
     ]
    }
   ],
   "source": [
    "print(fit_x1.summary())"
   ]
  },
  {
   "cell_type": "code",
   "execution_count": 9,
   "id": "2ebdf791",
   "metadata": {},
   "outputs": [],
   "source": [
    "fit_x2 = smf.ols(formula=\"y ~ x2\", data=data_frame).fit()"
   ]
  },
  {
   "cell_type": "code",
   "execution_count": 10,
   "id": "d59d42ca",
   "metadata": {},
   "outputs": [
    {
     "name": "stdout",
     "output_type": "stream",
     "text": [
      "                            OLS Regression Results                            \n",
      "==============================================================================\n",
      "Dep. Variable:                      y   R-squared:                       0.333\n",
      "Model:                            OLS   Adj. R-squared:                  0.326\n",
      "Method:                 Least Squares   F-statistic:                     48.89\n",
      "Date:                Sun, 11 Dec 2022   Prob (F-statistic):           3.34e-10\n",
      "Time:                        19:11:24   Log-Likelihood:                -152.82\n",
      "No. Observations:                 100   AIC:                             309.6\n",
      "Df Residuals:                      98   BIC:                             314.9\n",
      "Df Model:                           1                                         \n",
      "Covariance Type:            nonrobust                                         \n",
      "==============================================================================\n",
      "                 coef    std err          t      P>|t|      [0.025      0.975]\n",
      "------------------------------------------------------------------------------\n",
      "Intercept      1.9946      0.201      9.935      0.000       1.596       2.393\n",
      "x2             4.2872      0.613      6.992      0.000       3.070       5.504\n",
      "==============================================================================\n",
      "Omnibus:                        5.113   Durbin-Watson:                   2.347\n",
      "Prob(Omnibus):                  0.078   Jarque-Bera (JB):                4.462\n",
      "Skew:                           0.441   Prob(JB):                        0.107\n",
      "Kurtosis:                       3.543   Cond. No.                         5.85\n",
      "==============================================================================\n",
      "\n",
      "Notes:\n",
      "[1] Standard Errors assume that the covariance matrix of the errors is correctly specified.\n"
     ]
    }
   ],
   "source": [
    "print(fit_x2.summary())"
   ]
  },
  {
   "cell_type": "markdown",
   "id": "2ed0ee25",
   "metadata": {},
   "source": [
    "(g) **Now suppose we obtain one additional observation, which was\n",
    "unfortunately mismeasured.**"
   ]
  },
  {
   "cell_type": "code",
   "execution_count": 11,
   "id": "e326858a",
   "metadata": {},
   "outputs": [],
   "source": [
    "x1_2 = np.append(x1, 0.1)\n",
    "x2_2 = np.append(x2, 0.8)\n",
    "y_2 = np.append(y, 6)\n",
    "data_frame_2 = pd.DataFrame.from_dict({\"x1\": x1_2, \"x2\": x2_2, \"y\": y_2})"
   ]
  },
  {
   "cell_type": "code",
   "execution_count": 12,
   "id": "57519f18",
   "metadata": {},
   "outputs": [
    {
     "data": {
      "text/plain": [
       "array([ 4.24581569, -0.05299032,  1.89545593,  2.28079647,  1.69347666,\n",
       "        1.0429504 ,  1.73285973,  3.03347913,  0.73579776,  1.03348719,\n",
       "        1.83187556,  2.79895648,  3.03840818,  1.57655454,  1.40808499,\n",
       "        2.60721848,  2.41092891,  2.50926573,  3.84106033,  0.31734636,\n",
       "        0.39101565,  3.38908713,  1.72953525,  1.98649923,  3.05013909,\n",
       "        2.74384602,  1.45826944,  2.3537101 ,  0.90910959,  1.65660595,\n",
       "        2.4134291 ,  3.02284752,  2.27195995,  3.83458196,  3.10250036,\n",
       "        3.98128833,  2.79913803,  3.630205  ,  1.86351529,  3.94704504,\n",
       "        2.19656873,  4.0072949 ,  4.21869546,  0.53717235,  4.2780866 ,\n",
       "        3.00576327,  3.12110632,  5.26718684,  2.00859127,  3.52938235,\n",
       "        3.78424983,  2.54135738,  4.15073014,  1.20257762,  2.5699878 ,\n",
       "        2.09658244,  3.20642582,  2.84441514,  4.37106033,  4.15921659,\n",
       "        3.61736547,  4.23514568,  4.0447313 ,  2.75198748,  5.05077176,\n",
       "        3.27998446,  4.21200579,  4.29126002,  3.45234649,  3.08959067,\n",
       "        5.13556562,  4.57069502,  3.20418789,  4.27717278,  5.13228965,\n",
       "        3.62362463,  2.84117574,  4.60763282,  1.99092872,  1.98806639,\n",
       "        5.22700844,  3.06719556,  3.75610768,  3.64607432,  3.89558754,\n",
       "        3.96032942,  2.66644347,  6.56708166,  2.9968254 ,  4.68244422,\n",
       "        3.70248651,  4.34969071,  7.39811148,  3.32449208,  3.46006   ,\n",
       "        4.17554308,  4.75517664,  4.95803073,  3.59476342,  6.45000137,\n",
       "        6.        ])"
      ]
     },
     "execution_count": 12,
     "metadata": {},
     "output_type": "execute_result"
    }
   ],
   "source": [
    "y_2"
   ]
  },
  {
   "cell_type": "code",
   "execution_count": 13,
   "id": "7e9895d0",
   "metadata": {},
   "outputs": [
    {
     "data": {
      "text/plain": [
       "<matplotlib.collections.PathCollection at 0x7fec3c412be0>"
      ]
     },
     "execution_count": 13,
     "metadata": {},
     "output_type": "execute_result"
    },
    {
     "data": {
      "image/png": "[encoded data removed]",
      "text/plain": [
       "<Figure size 720x576 with 1 Axes>"
      ]
     },
     "metadata": {
      "needs_background": "light"
     },
     "output_type": "display_data"
    }
   ],
   "source": [
    "fig, ax = plt.subplots(figsize=(10,8))\n",
    "ax.scatter(x1_2, x2_2)"
   ]
  },
  {
   "cell_type": "code",
   "execution_count": 14,
   "id": "0ed6dfa2",
   "metadata": {},
   "outputs": [],
   "source": [
    "fit_x12_2 = smf.ols(formula=\"y ~ x1 + x2\", data=data_frame_2).fit()"
   ]
  },
  {
   "cell_type": "code",
   "execution_count": 15,
   "id": "84c3323e",
   "metadata": {},
   "outputs": [
    {
     "name": "stdout",
     "output_type": "stream",
     "text": [
      "                            OLS Regression Results                            \n",
      "==============================================================================\n",
      "Dep. Variable:                      y   R-squared:                       0.388\n",
      "Model:                            OLS   Adj. R-squared:                  0.376\n",
      "Method:                 Least Squares   F-statistic:                     31.09\n",
      "Date:                Sun, 11 Dec 2022   Prob (F-statistic):           3.50e-11\n",
      "Time:                        19:11:24   Log-Likelihood:                -151.60\n",
      "No. Observations:                 101   AIC:                             309.2\n",
      "Df Residuals:                      98   BIC:                             317.0\n",
      "Df Model:                           2                                         \n",
      "Covariance Type:            nonrobust                                         \n",
      "==============================================================================\n",
      "                 coef    std err          t      P>|t|      [0.025      0.975]\n",
      "------------------------------------------------------------------------------\n",
      "Intercept      1.7349      0.223      7.770      0.000       1.292       2.178\n",
      "x1             1.2931      0.595      2.172      0.032       0.112       2.475\n",
      "x2             2.7474      0.943      2.912      0.004       0.875       4.620\n",
      "==============================================================================\n",
      "Omnibus:                        2.448   Durbin-Watson:                   2.348\n",
      "Prob(Omnibus):                  0.294   Jarque-Bera (JB):                1.920\n",
      "Skew:                           0.321   Prob(JB):                        0.383\n",
      "Kurtosis:                       3.212   Cond. No.                         11.5\n",
      "==============================================================================\n",
      "\n",
      "Notes:\n",
      "[1] Standard Errors assume that the covariance matrix of the errors is correctly specified.\n"
     ]
    }
   ],
   "source": [
    "print(fit_x12_2.summary())"
   ]
  },
  {
   "cell_type": "code",
   "execution_count": 16,
   "id": "b0076b71",
   "metadata": {},
   "outputs": [],
   "source": [
    "fit_x1_2 = smf.ols(formula=\"y ~ x1\", data=data_frame_2).fit()"
   ]
  },
  {
   "cell_type": "code",
   "execution_count": 17,
   "id": "e02a9ab6",
   "metadata": {},
   "outputs": [
    {
     "name": "stdout",
     "output_type": "stream",
     "text": [
      "                            OLS Regression Results                            \n",
      "==============================================================================\n",
      "Dep. Variable:                      y   R-squared:                       0.335\n",
      "Model:                            OLS   Adj. R-squared:                  0.329\n",
      "Method:                 Least Squares   F-statistic:                     49.93\n",
      "Date:                Sun, 11 Dec 2022   Prob (F-statistic):           2.26e-10\n",
      "Time:                        19:11:24   Log-Likelihood:                -155.79\n",
      "No. Observations:                 101   AIC:                             315.6\n",
      "Df Residuals:                      99   BIC:                             320.8\n",
      "Df Model:                           1                                         \n",
      "Covariance Type:            nonrobust                                         \n",
      "==============================================================================\n",
      "                 coef    std err          t      P>|t|      [0.025      0.975]\n",
      "------------------------------------------------------------------------------\n",
      "Intercept      1.7607      0.231      7.609      0.000       1.302       2.220\n",
      "x1             2.6656      0.377      7.066      0.000       1.917       3.414\n",
      "==============================================================================\n",
      "Omnibus:                        7.462   Durbin-Watson:                   2.161\n",
      "Prob(Omnibus):                  0.024   Jarque-Bera (JB):                7.515\n",
      "Skew:                           0.493   Prob(JB):                       0.0233\n",
      "Kurtosis:                       3.901   Cond. No.                         4.33\n",
      "==============================================================================\n",
      "\n",
      "Notes:\n",
      "[1] Standard Errors assume that the covariance matrix of the errors is correctly specified.\n"
     ]
    }
   ],
   "source": [
    "print(fit_x1_2.summary())"
   ]
  },
  {
   "cell_type": "code",
   "execution_count": 18,
   "id": "ed2ee5a2",
   "metadata": {},
   "outputs": [],
   "source": [
    "fit_x2_2 = smf.ols(formula=\"y ~ x2\", data=data_frame_2).fit()"
   ]
  },
  {
   "cell_type": "code",
   "execution_count": 19,
   "id": "3b2c53ca",
   "metadata": {},
   "outputs": [
    {
     "name": "stdout",
     "output_type": "stream",
     "text": [
      "                            OLS Regression Results                            \n",
      "==============================================================================\n",
      "Dep. Variable:                      y   R-squared:                       0.359\n",
      "Model:                            OLS   Adj. R-squared:                  0.352\n",
      "Method:                 Least Squares   F-statistic:                     55.38\n",
      "Date:                Sun, 11 Dec 2022   Prob (F-statistic):           3.69e-11\n",
      "Time:                        19:11:24   Log-Likelihood:                -153.97\n",
      "No. Observations:                 101   AIC:                             311.9\n",
      "Df Residuals:                      99   BIC:                             317.2\n",
      "Df Model:                           1                                         \n",
      "Covariance Type:            nonrobust                                         \n",
      "==============================================================================\n",
      "                 coef    std err          t      P>|t|      [0.025      0.975]\n",
      "------------------------------------------------------------------------------\n",
      "Intercept      1.9775      0.197     10.042      0.000       1.587       2.368\n",
      "x2             4.3697      0.587      7.442      0.000       3.205       5.535\n",
      "==============================================================================\n",
      "Omnibus:                        4.905   Durbin-Watson:                   2.382\n",
      "Prob(Omnibus):                  0.086   Jarque-Bera (JB):                4.256\n",
      "Skew:                           0.424   Prob(JB):                        0.119\n",
      "Kurtosis:                       3.540   Cond. No.                         5.67\n",
      "==============================================================================\n",
      "\n",
      "Notes:\n",
      "[1] Standard Errors assume that the covariance matrix of the errors is correctly specified.\n"
     ]
    }
   ],
   "source": [
    "print(fit_x2_2.summary())"
   ]
  }
 ],
 "metadata": {
  "kernelspec": {
   "display_name": "Python 3.9.0 64-bit",
   "language": "python",
   "name": "python3"
  },
  "language_info": {
   "codemirror_mode": {
    "name": "ipython",
    "version": 3
   },
   "file_extension": ".py",
   "mimetype": "text/x-python",
   "name": "python",
   "nbconvert_exporter": "python",
   "pygments_lexer": "ipython3",
   "version": "3.9.0"
  },
  "vscode": {
   "interpreter": {
    "hash": "aee8b7b246df8f9039afb4144a1f6fd8d2ca17a180786b69acc140d282b71a49"
   }
  }
 },
 "nbformat": 4,
 "nbformat_minor": 5
}
